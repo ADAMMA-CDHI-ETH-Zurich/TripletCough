{
 "cells": [
  {
   "cell_type": "markdown",
   "metadata": {},
   "source": [
    "## Define model"
   ]
  },
  {
   "cell_type": "code",
   "execution_count": 1,
   "metadata": {},
   "outputs": [],
   "source": [
    "from Model import *\n",
    "model = get_embedding_cnn((80, 237, 1))"
   ]
  },
  {
   "cell_type": "markdown",
   "metadata": {},
   "source": [
    "## Number of parameters"
   ]
  },
  {
   "cell_type": "code",
   "execution_count": 2,
   "metadata": {
    "scrolled": true
   },
   "outputs": [
    {
     "name": "stdout",
     "output_type": "stream",
     "text": [
      "Model: \"sequential\"\n",
      "_________________________________________________________________\n",
      "Layer (type)                 Output Shape              Param #   \n",
      "=================================================================\n",
      "conv2d (Conv2D)              (None, 80, 228, 16)       176       \n",
      "_________________________________________________________________\n",
      "activation (Activation)      (None, 80, 228, 16)       0         \n",
      "_________________________________________________________________\n",
      "max_pooling2d (MaxPooling2D) (None, 80, 114, 16)       0         \n",
      "_________________________________________________________________\n",
      "conv2d_1 (Conv2D)            (None, 80, 108, 64)       7232      \n",
      "_________________________________________________________________\n",
      "activation_1 (Activation)    (None, 80, 108, 64)       0         \n",
      "_________________________________________________________________\n",
      "max_pooling2d_1 (MaxPooling2 (None, 80, 54, 64)        0         \n",
      "_________________________________________________________________\n",
      "conv2d_2 (Conv2D)            (None, 80, 51, 64)        16448     \n",
      "_________________________________________________________________\n",
      "activation_2 (Activation)    (None, 80, 51, 64)        0         \n",
      "_________________________________________________________________\n",
      "max_pooling2d_2 (MaxPooling2 (None, 80, 25, 64)        0         \n",
      "_________________________________________________________________\n",
      "conv2d_3 (Conv2D)            (None, 78, 23, 64)        36928     \n",
      "_________________________________________________________________\n",
      "activation_3 (Activation)    (None, 78, 23, 64)        0         \n",
      "_________________________________________________________________\n",
      "max_pooling2d_3 (MaxPooling2 (None, 78, 11, 64)        0         \n",
      "_________________________________________________________________\n",
      "conv2d_4 (Conv2D)            (None, 76, 9, 64)         36928     \n",
      "_________________________________________________________________\n",
      "activation_4 (Activation)    (None, 76, 9, 64)         0         \n",
      "_________________________________________________________________\n",
      "max_pooling2d_4 (MaxPooling2 (None, 76, 4, 64)         0         \n",
      "_________________________________________________________________\n",
      "conv2d_5 (Conv2D)            (None, 74, 2, 64)         36928     \n",
      "_________________________________________________________________\n",
      "activation_5 (Activation)    (None, 74, 2, 64)         0         \n",
      "_________________________________________________________________\n",
      "max_pooling2d_5 (MaxPooling2 (None, 74, 1, 64)         0         \n",
      "_________________________________________________________________\n",
      "flatten (Flatten)            (None, 4736)              0         \n",
      "_________________________________________________________________\n",
      "dense (Dense)                (None, 4096)              19402752  \n",
      "=================================================================\n",
      "Total params: 19,537,392\n",
      "Trainable params: 19,537,392\n",
      "Non-trainable params: 0\n",
      "_________________________________________________________________\n"
     ]
    }
   ],
   "source": [
    "model.summary()"
   ]
  },
  {
   "cell_type": "markdown",
   "metadata": {},
   "source": [
    "## FLOPs"
   ]
  },
  {
   "cell_type": "code",
   "execution_count": 3,
   "metadata": {},
   "outputs": [
    {
     "name": "stdout",
     "output_type": "stream",
     "text": [
      "FLOPs: 498.337 M\n"
     ]
    }
   ],
   "source": [
    "from keras_flops import get_flops\n",
    "flops = get_flops(model, batch_size=1)\n",
    "print(f\"FLOPs: {flops / 10 ** 6:.06} M\")"
   ]
  },
  {
   "cell_type": "markdown",
   "metadata": {},
   "source": [
    "## Memory usage"
   ]
  },
  {
   "cell_type": "code",
   "execution_count": 4,
   "metadata": {},
   "outputs": [],
   "source": [
    "def keras_model_memory_usage_in_bytes(model, *, batch_size: int):\n",
    "    \"\"\"\n",
    "    Source: https://stackoverflow.com/questions/43137288/how-to-determine-needed-memory-of-keras-model\n",
    "    Return the estimated memory usage of a given Keras model in bytes.\n",
    "    This includes the model weights and layers, but excludes the dataset.\n",
    "\n",
    "    The model shapes are multipled by the batch size, but the weights are not.\n",
    "\n",
    "    Args:\n",
    "        model: A Keras model.\n",
    "        batch_size: The batch size you intend to run the model with. If you\n",
    "            have already specified the batch size in the model itself, then\n",
    "            pass `1` as the argument here.\n",
    "    Returns:\n",
    "        An estimate of the Keras model's memory usage in bytes.\n",
    "\n",
    "    \"\"\"\n",
    "    default_dtype = tf.keras.backend.floatx()\n",
    "    shapes_mem_count = 0\n",
    "    internal_model_mem_count = 0\n",
    "    for layer in model.layers:\n",
    "        if isinstance(layer, tf.keras.Model):\n",
    "            internal_model_mem_count += keras_model_memory_usage_in_bytes(\n",
    "                layer, batch_size=batch_size\n",
    "            )\n",
    "        single_layer_mem = tf.as_dtype(layer.dtype or default_dtype).size\n",
    "        out_shape = layer.output_shape\n",
    "        if isinstance(out_shape, list):\n",
    "            out_shape = out_shape[0]\n",
    "        for s in out_shape:\n",
    "            if s is None:\n",
    "                continue\n",
    "            single_layer_mem *= s\n",
    "        shapes_mem_count += single_layer_mem\n",
    "\n",
    "    trainable_count = sum(\n",
    "        [tf.keras.backend.count_params(p) for p in model.trainable_weights]\n",
    "    )\n",
    "    non_trainable_count = sum(\n",
    "        [tf.keras.backend.count_params(p) for p in model.non_trainable_weights]\n",
    "    )\n",
    "\n",
    "    total_memory = (\n",
    "        batch_size * shapes_mem_count\n",
    "        + internal_model_mem_count\n",
    "        + trainable_count\n",
    "        + non_trainable_count\n",
    "    )\n",
    "    return total_memory"
   ]
  },
  {
   "cell_type": "code",
   "execution_count": 5,
   "metadata": {
    "scrolled": false
   },
   "outputs": [
    {
     "name": "stdout",
     "output_type": "stream",
     "text": [
      "Memory usage: 32.3 MB\n"
     ]
    }
   ],
   "source": [
    "mem_bytes = keras_model_memory_usage_in_bytes(model=model, batch_size=1)\n",
    "print(f\"Memory usage: {mem_bytes / 10 ** 6:.03} MB\")"
   ]
  },
  {
   "cell_type": "code",
   "execution_count": null,
   "metadata": {},
   "outputs": [],
   "source": []
  }
 ],
 "metadata": {
  "kernelspec": {
   "display_name": "Python 3",
   "language": "python",
   "name": "python3"
  },
  "language_info": {
   "codemirror_mode": {
    "name": "ipython",
    "version": 3
   },
   "file_extension": ".py",
   "mimetype": "text/x-python",
   "name": "python",
   "nbconvert_exporter": "python",
   "pygments_lexer": "ipython3",
   "version": "3.8.5"
  }
 },
 "nbformat": 4,
 "nbformat_minor": 4
}
